{
  "nbformat": 4,
  "nbformat_minor": 0,
  "metadata": {
    "colab": {
      "provenance": [],
      "authorship_tag": "ABX9TyPIqv6IpphDj7nPiFgg+HAl",
      "include_colab_link": true
    },
    "kernelspec": {
      "name": "python3",
      "display_name": "Python 3"
    },
    "language_info": {
      "name": "python"
    }
  },
  "cells": [
    {
      "cell_type": "markdown",
      "metadata": {
        "id": "view-in-github",
        "colab_type": "text"
      },
      "source": [
        "<a href=\"https://colab.research.google.com/github/gmm39/CS4410_GMcKenzie/blob/main/Homework5_GMcKenzie.ipynb\" target=\"_parent\"><img src=\"https://colab.research.google.com/assets/colab-badge.svg\" alt=\"Open In Colab\"/></a>"
      ]
    },
    {
      "cell_type": "markdown",
      "source": [
        "Gage McKenzie\\\n",
        "CS4410\\\n",
        "Homework 5"
      ],
      "metadata": {
        "id": "84JF5f31zV8r"
      }
    },
    {
      "cell_type": "code",
      "execution_count": 65,
      "metadata": {
        "id": "CZA6xW5CzSY4"
      },
      "outputs": [],
      "source": [
        "# 1\n",
        "import pandas as pd\n",
        "from sklearn.datasets import load_iris\n",
        "from sklearn.cluster import KMeans\n",
        "import matplotlib.pyplot as plt\n",
        "%matplotlib inline"
      ]
    },
    {
      "cell_type": "code",
      "source": [
        "# Load irisi dataset\n",
        "iris = load_iris()"
      ],
      "metadata": {
        "id": "5jvYYZK0z3-K"
      },
      "execution_count": 66,
      "outputs": []
    },
    {
      "cell_type": "code",
      "source": [
        "# Run KMeans for k = 1, ..., 10 and record the inertia for each iteration\n",
        "k_range = range(1, 11)\n",
        "wcss = []\n",
        "\n",
        "for k in k_range:\n",
        "  kmeans = KMeans(n_clusters=k, n_init=10, random_state=5).fit(iris.data)\n",
        "  wcss.append(kmeans.inertia_)"
      ],
      "metadata": {
        "id": "pSqlUtw60NoB"
      },
      "execution_count": 67,
      "outputs": []
    },
    {
      "cell_type": "code",
      "source": [
        "# Generate elbow plot for WCSS vs number of clusters to determine best k value\n",
        "plt.xlabel('Number of clusters')\n",
        "plt.ylabel('WCSS')\n",
        "plt.plot(k_range, wcss)"
      ],
      "metadata": {
        "colab": {
          "base_uri": "https://localhost:8080/",
          "height": 467
        },
        "id": "3eealtZz2OoO",
        "outputId": "5f215d62-83cf-4ab6-bf83-e6d5678d8de4"
      },
      "execution_count": 68,
      "outputs": [
        {
          "output_type": "execute_result",
          "data": {
            "text/plain": [
              "[<matplotlib.lines.Line2D at 0x7f50470dfb20>]"
            ]
          },
          "metadata": {},
          "execution_count": 68
        },
        {
          "output_type": "display_data",
          "data": {
            "text/plain": [
              "<Figure size 640x480 with 1 Axes>"
            ],
            "image/png": "[encoded data removed]"
          },
          "metadata": {}
        }
      ]
    },
    {
      "cell_type": "markdown",
      "source": [
        "This shows the optimal k value for KMeans on this dataset is k = 4"
      ],
      "metadata": {
        "id": "QOQyNZnX37Xq"
      }
    },
    {
      "cell_type": "code",
      "source": [
        "# 2\n",
        "from sklearn.datasets import fetch_openml\n",
        "from sklearn.model_selection import train_test_split\n",
        "from sklearn.preprocessing import StandardScaler\n",
        "from sklearn.decomposition import PCA\n",
        "from sklearn.linear_model import LogisticRegression"
      ],
      "metadata": {
        "id": "MqvuWL4X4Eof"
      },
      "execution_count": 69,
      "outputs": []
    },
    {
      "cell_type": "code",
      "source": [
        "mnist = fetch_openml('mnist_784')"
      ],
      "metadata": {
        "colab": {
          "base_uri": "https://localhost:8080/"
        },
        "id": "zoqNmKGY4wqO",
        "outputId": "5acecc6f-c561-4fb8-a513-ad08e9e0a1e6"
      },
      "execution_count": 70,
      "outputs": [
        {
          "output_type": "stream",
          "name": "stderr",
          "text": [
            "/usr/local/lib/python3.10/dist-packages/sklearn/datasets/_openml.py:1022: FutureWarning: The default value of `parser` will change from `'liac-arff'` to `'auto'` in 1.4. You can set `parser='auto'` to silence this warning. Therefore, an `ImportError` will be raised from 1.4 if the dataset is dense and pandas is not installed. Note that the pandas parser may return different data types. See the Notes Section in fetch_openml's API doc for details.\n",
            "  warn(\n"
          ]
        }
      ]
    },
    {
      "cell_type": "code",
      "source": [
        "X_train, X_test, y_train, y_test = train_test_split(mnist.data, mnist.target, random_state=11)"
      ],
      "metadata": {
        "id": "UzFgCcct5Faz"
      },
      "execution_count": 71,
      "outputs": []
    },
    {
      "cell_type": "code",
      "source": [
        "# Standardize the data and apply it to the train and test sets\n",
        "stdScaler = StandardScaler()\n",
        "stdScaler.fit(X_train)\n",
        "\n",
        "X_train = stdScaler.transform(X_train)\n",
        "X_test = stdScaler.transform(X_test)"
      ],
      "metadata": {
        "id": "GrEFZxZ-5gDq"
      },
      "execution_count": 72,
      "outputs": []
    },
    {
      "cell_type": "code",
      "source": [
        "# Apply PCA to the train and test sets\n",
        "pca = PCA(0.95)\n",
        "pca.fit(X_train)\n",
        "\n",
        "X_train_pca = pca.transform(X_train)\n",
        "X_test_pca = pca.transform(X_test)"
      ],
      "metadata": {
        "id": "F4VOI4wK9R_y"
      },
      "execution_count": 73,
      "outputs": []
    },
    {
      "cell_type": "code",
      "source": [
        "# Create and fit logistic regression model using the scaled data\n",
        "logReg = LogisticRegression(solver='lbfgs')\n",
        "logReg.fit(X_train, y_train)\n",
        "\n",
        "nonPCA_score = logReg.score(X_test, y_test)"
      ],
      "metadata": {
        "colab": {
          "base_uri": "https://localhost:8080/"
        },
        "id": "9LA6qoGo_LCV",
        "outputId": "3d3fc4c1-9d79-4cf9-e324-68784dc05e96"
      },
      "execution_count": 74,
      "outputs": [
        {
          "output_type": "stream",
          "name": "stderr",
          "text": [
            "/usr/local/lib/python3.10/dist-packages/sklearn/linear_model/_logistic.py:460: ConvergenceWarning: lbfgs failed to converge (status=1):\n",
            "STOP: TOTAL NO. of ITERATIONS REACHED LIMIT.\n",
            "\n",
            "Increase the number of iterations (max_iter) or scale the data as shown in:\n",
            "    https://scikit-learn.org/stable/modules/preprocessing.html\n",
            "Please also refer to the documentation for alternative solver options:\n",
            "    https://scikit-learn.org/stable/modules/linear_model.html#logistic-regression\n",
            "  n_iter_i = _check_optimize_result(\n"
          ]
        }
      ]
    },
    {
      "cell_type": "code",
      "source": [
        "# Create and fit logistic regression model using the pca data\n",
        "logReg = LogisticRegression(solver='lbfgs')\n",
        "logReg.fit(X_train_pca, y_train)\n",
        "\n",
        "PCA_score = logReg.score(X_test_pca, y_test)"
      ],
      "metadata": {
        "colab": {
          "base_uri": "https://localhost:8080/"
        },
        "id": "rc8homniAX0q",
        "outputId": "6e23a5d3-6186-4534-9ad8-1aeb9586f759"
      },
      "execution_count": 75,
      "outputs": [
        {
          "output_type": "stream",
          "name": "stderr",
          "text": [
            "/usr/local/lib/python3.10/dist-packages/sklearn/linear_model/_logistic.py:460: ConvergenceWarning: lbfgs failed to converge (status=1):\n",
            "STOP: TOTAL NO. of ITERATIONS REACHED LIMIT.\n",
            "\n",
            "Increase the number of iterations (max_iter) or scale the data as shown in:\n",
            "    https://scikit-learn.org/stable/modules/preprocessing.html\n",
            "Please also refer to the documentation for alternative solver options:\n",
            "    https://scikit-learn.org/stable/modules/linear_model.html#logistic-regression\n",
            "  n_iter_i = _check_optimize_result(\n"
          ]
        }
      ]
    },
    {
      "cell_type": "code",
      "source": [
        "print(f\"{'Non-PCA accuracy score': <22}: \" + f'{nonPCA_score:.2%}')\n",
        "print(f\"{'PCA accuracy score': <22}: \" + f'{PCA_score:.2%}')"
      ],
      "metadata": {
        "colab": {
          "base_uri": "https://localhost:8080/"
        },
        "id": "RBEqBuxPBfIY",
        "outputId": "be5065ed-18ed-43ba-f950-730b134881b0"
      },
      "execution_count": 80,
      "outputs": [
        {
          "output_type": "stream",
          "name": "stdout",
          "text": [
            "Non-PCA accuracy score: 91.39%\n",
            "PCA accuracy score    : 92.14%\n"
          ]
        }
      ]
    },
    {
      "cell_type": "markdown",
      "source": [
        "On the last completion of the two logistic regression executions, the execution using pca data was 2.8 times faster than then one not using pca data (10s vs 28s)."
      ],
      "metadata": {
        "id": "MJfue6rLD0ux"
      }
    }
  ]
}