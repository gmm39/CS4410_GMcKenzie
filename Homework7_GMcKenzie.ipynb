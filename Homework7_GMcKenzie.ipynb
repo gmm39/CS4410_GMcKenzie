{
  "nbformat": 4,
  "nbformat_minor": 0,
  "metadata": {
    "colab": {
      "provenance": [],
      "gpuType": "V28",
      "authorship_tag": "ABX9TyNNk8z/s8INh9JbvjMHG9EP",
      "include_colab_link": true
    },
    "kernelspec": {
      "name": "python3",
      "display_name": "Python 3"
    },
    "language_info": {
      "name": "python"
    },
    "accelerator": "TPU"
  },
  "cells": [
    {
      "cell_type": "markdown",
      "metadata": {
        "id": "view-in-github",
        "colab_type": "text"
      },
      "source": [
        "<a href=\"https://colab.research.google.com/github/gmm39/CS4410_GMcKenzie/blob/main/Homework7_GMcKenzie.ipynb\" target=\"_parent\"><img src=\"https://colab.research.google.com/assets/colab-badge.svg\" alt=\"Open In Colab\"/></a>"
      ]
    },
    {
      "cell_type": "markdown",
      "source": [
        "Gage McKenzie\\\n",
        "CS4410\\\n",
        "Homework 7"
      ],
      "metadata": {
        "id": "MBWlksqK0taF"
      }
    },
    {
      "cell_type": "code",
      "execution_count": 28,
      "metadata": {
        "id": "BY1IyUc_0qKv"
      },
      "outputs": [],
      "source": [
        "# 16.1\n",
        "from tensorflow.keras.datasets import fashion_mnist, mnist\n",
        "from tensorflow.keras.utils import to_categorical\n",
        "from tensorflow.keras.models import Sequential\n",
        "from tensorflow.keras.layers import Conv2D, Dense, Flatten, MaxPooling2D\n",
        "import time"
      ]
    },
    {
      "cell_type": "code",
      "source": [
        "# Load fashion_mnist dataset\n",
        "(X_train, y_train), (X_test, y_test) = fashion_mnist.load_data()\n",
        "\n",
        "# Reshape for Keras covnet\n",
        "X_train = X_train.reshape((60000, 28, 28, 1))\n",
        "X_test = X_test.reshape((10000, 28, 28, 1))\n",
        "\n",
        "# Normalization\n",
        "X_train = X_train.astype('float32') / 255\n",
        "X_test = X_test.astype('float32') / 255\n",
        "\n",
        "# One-Hotting the labels\n",
        "y_train = to_categorical(y_train)\n",
        "y_test = to_categorical(y_test)"
      ],
      "metadata": {
        "id": "cCbnwQme0-qB"
      },
      "execution_count": 29,
      "outputs": []
    },
    {
      "cell_type": "code",
      "source": [
        "# Creating sequential neural network\n",
        "cnn = Sequential()\n",
        "\n",
        "cnn.add(Conv2D(filters=64, kernel_size=(3, 3), activation='relu', input_shape=(28, 28, 1)))\n",
        "cnn.add(MaxPooling2D(pool_size=(2, 2)))\n",
        "cnn.add(Conv2D(filters=128, kernel_size=(3, 3), activation='relu'))\n",
        "cnn.add(MaxPooling2D(pool_size=(2, 2)))\n",
        "cnn.add(Flatten())\n",
        "cnn.add(Dense(units=128, activation='relu'))\n",
        "cnn.add(Dense(units=10, activation='softmax'))\n",
        "\n",
        "cnn.compile(optimizer='adam', loss='categorical_crossentropy', metrics=['accuracy'])"
      ],
      "metadata": {
        "id": "odK1LAW02lSp"
      },
      "execution_count": 30,
      "outputs": []
    },
    {
      "cell_type": "code",
      "source": [
        "# Training the model\n",
        "start = time.time();\n",
        "\n",
        "cnn.fit(X_train, y_train, epochs=5, batch_size=64, validation_split=0.1)\n",
        "\n",
        "end = time.time()\n",
        "trainingTime = end-start"
      ],
      "metadata": {
        "colab": {
          "base_uri": "https://localhost:8080/"
        },
        "id": "ZBL5wg6k3fPs",
        "outputId": "19b33652-4143-424a-adef-85b6436d88a6"
      },
      "execution_count": 31,
      "outputs": [
        {
          "output_type": "stream",
          "name": "stdout",
          "text": [
            "Epoch 1/5\n",
            "844/844 [==============================] - 12s 14ms/step - loss: 0.4703 - accuracy: 0.8291 - val_loss: 0.3386 - val_accuracy: 0.8802\n",
            "Epoch 2/5\n",
            "844/844 [==============================] - 11s 14ms/step - loss: 0.3090 - accuracy: 0.8875 - val_loss: 0.2812 - val_accuracy: 0.8978\n",
            "Epoch 3/5\n",
            "844/844 [==============================] - 11s 13ms/step - loss: 0.2601 - accuracy: 0.9056 - val_loss: 0.2561 - val_accuracy: 0.9065\n",
            "Epoch 4/5\n",
            "844/844 [==============================] - 11s 13ms/step - loss: 0.2294 - accuracy: 0.9151 - val_loss: 0.2576 - val_accuracy: 0.9045\n",
            "Epoch 5/5\n",
            "844/844 [==============================] - 11s 13ms/step - loss: 0.1983 - accuracy: 0.9273 - val_loss: 0.2517 - val_accuracy: 0.9073\n"
          ]
        }
      ]
    },
    {
      "cell_type": "code",
      "source": [
        "# Evaluating the model\n",
        "loss, accuracy = cnn.evaluate(X_test, y_test)\n",
        "\n",
        "print(f\"{'Loss': <13}: \" + f'{loss:.2%}')\n",
        "print(f\"{'Accuracy': <13}: \" + f'{accuracy:.2%}')\n",
        "print(f\"{'Training Time': <13}: \" + f'{trainingTime:.2f}' + ' seconds')"
      ],
      "metadata": {
        "colab": {
          "base_uri": "https://localhost:8080/"
        },
        "id": "A5rIeFxz4hV4",
        "outputId": "484ae850-a441-4cde-977d-1a23206c0439"
      },
      "execution_count": 35,
      "outputs": [
        {
          "output_type": "stream",
          "name": "stdout",
          "text": [
            "313/313 [==============================] - 1s 4ms/step - loss: 0.2635 - accuracy: 0.9044\n",
            "Loss         : 26.35%\n",
            "Accuracy     : 90.44%\n",
            "Training Time: 57.71 seconds\n"
          ]
        }
      ]
    },
    {
      "cell_type": "markdown",
      "source": [
        "I ran the previous code for both the minst dataset and the fashion_minst datset:\n",
        "```\n",
        "MINST DATASET:\n",
        "Loss         : 2.97%\n",
        "Accuracy     : 99.14%\n",
        "Training Time: 56.56 seconds\n",
        "```\n",
        "```\n",
        "FASHION_MINST DATASET:\n",
        "Loss         : 26.35%\n",
        "Accuracy     : 90.44%\n",
        "Training Time: 57.71 seconds\n",
        "```\n",
        "\n",
        "The model had significantly worse loss with the fashion dataset while having worse, but still very good, accuracy. The training times between the 2 datsets were similar using the TPU v2-8 hardware accelerator in collab."
      ],
      "metadata": {
        "id": "ffBrRHTc7Zub"
      }
    },
    {
      "cell_type": "code",
      "source": [
        "# 16.4\n",
        "# Load mnist dataset\n",
        "(X_train, y_train), (X_test, y_test) = mnist.load_data()\n",
        "\n",
        "# Reshape for Keras covnet\n",
        "X_train = X_train.reshape((60000, 28, 28, 1))\n",
        "X_test = X_test.reshape((10000, 28, 28, 1))\n",
        "\n",
        "# Normalization\n",
        "X_train = X_train.astype('float32') / 255\n",
        "X_test = X_test.astype('float32') / 255\n",
        "\n",
        "# One-Hotting the labels\n",
        "y_train = to_categorical(y_train)\n",
        "y_test = to_categorical(y_test)"
      ],
      "metadata": {
        "id": "5MC2nJlp7rrI"
      },
      "execution_count": 37,
      "outputs": []
    },
    {
      "cell_type": "code",
      "source": [
        "# Creating sequential neural network\n",
        "cnn = Sequential()\n",
        "\n",
        "cnn.add(Conv2D(filters=64, kernel_size=(3, 3), activation='relu', input_shape=(28, 28, 1)))\n",
        "cnn.add(MaxPooling2D(pool_size=(2, 2)))\n",
        "cnn.add(Conv2D(filters=128, kernel_size=(3, 3), activation='relu'))\n",
        "cnn.add(MaxPooling2D(pool_size=(2, 2)))\n",
        "cnn.add(Flatten())\n",
        "cnn.add(Dense(units=4096, activation='relu'))\n",
        "cnn.add(Dense(units=128, activation='relu'))\n",
        "cnn.add(Dense(units=10, activation='softmax'))\n",
        "\n",
        "cnn.compile(optimizer='adam', loss='categorical_crossentropy', metrics=['accuracy'])"
      ],
      "metadata": {
        "id": "rQxY-aVK905K"
      },
      "execution_count": 38,
      "outputs": []
    },
    {
      "cell_type": "code",
      "source": [
        "# Training the model\n",
        "start = time.time();\n",
        "\n",
        "cnn.fit(X_train, y_train, epochs=5, batch_size=64, validation_split=0.1)\n",
        "\n",
        "end = time.time()\n",
        "trainingTime = end-start"
      ],
      "metadata": {
        "colab": {
          "base_uri": "https://localhost:8080/"
        },
        "id": "VTzcGZMk947C",
        "outputId": "22bd03b2-3755-46b0-8ba8-15f0f46708d9"
      },
      "execution_count": 39,
      "outputs": [
        {
          "output_type": "stream",
          "name": "stdout",
          "text": [
            "Epoch 1/5\n",
            "844/844 [==============================] - 60s 70ms/step - loss: 0.1175 - accuracy: 0.9632 - val_loss: 0.0410 - val_accuracy: 0.9897\n",
            "Epoch 2/5\n",
            "844/844 [==============================] - 60s 71ms/step - loss: 0.0384 - accuracy: 0.9879 - val_loss: 0.0495 - val_accuracy: 0.9848\n",
            "Epoch 3/5\n",
            "844/844 [==============================] - 61s 72ms/step - loss: 0.0245 - accuracy: 0.9921 - val_loss: 0.0442 - val_accuracy: 0.9892\n",
            "Epoch 4/5\n",
            "844/844 [==============================] - 61s 72ms/step - loss: 0.0185 - accuracy: 0.9941 - val_loss: 0.0586 - val_accuracy: 0.9855\n",
            "Epoch 5/5\n",
            "844/844 [==============================] - 61s 72ms/step - loss: 0.0151 - accuracy: 0.9954 - val_loss: 0.0531 - val_accuracy: 0.9890\n"
          ]
        }
      ]
    },
    {
      "cell_type": "code",
      "source": [
        "# Evaluating the model\n",
        "loss, accuracy = cnn.evaluate(X_test, y_test)\n",
        "\n",
        "print(f\"{'Loss': <13}: \" + f'{loss:.2%}')\n",
        "print(f\"{'Accuracy': <13}: \" + f'{accuracy:.2%}')\n",
        "print(f\"{'Training Time': <13}: \" + f'{trainingTime:.2f}' + ' seconds')"
      ],
      "metadata": {
        "colab": {
          "base_uri": "https://localhost:8080/"
        },
        "id": "VlXx8TBf-Jua",
        "outputId": "420b2453-b8f5-4ba6-80ab-2c5a29b36d7a"
      },
      "execution_count": 40,
      "outputs": [
        {
          "output_type": "stream",
          "name": "stdout",
          "text": [
            "313/313 [==============================] - 3s 9ms/step - loss: 0.0447 - accuracy: 0.9889\n",
            "Loss         : 4.47%\n",
            "Accuracy     : 98.89%\n",
            "Training Time: 302.58 seconds\n"
          ]
        }
      ]
    },
    {
      "cell_type": "markdown",
      "source": [
        "Comparing the model from the chapter with the same model with an extra dense layer added before the two existing dense layers using the mnist dataset:\n",
        "```\n",
        "MINST DATASET:\n",
        "Loss         : 2.97%\n",
        "Accuracy     : 99.14%\n",
        "Training Time: 56.56 seconds\n",
        "```\n",
        "```\n",
        "MINST DATASET + EXTRA 4096 DENSE LAYER:\n",
        "Loss         : 4.47%\n",
        "Accuracy     : 98.89%\n",
        "Training Time: 302.58 seconds\n",
        "```\n",
        "This severely lengthened the training time for the model. It also slightly decreased the accuracy and increased the loss for the model."
      ],
      "metadata": {
        "id": "d_HQFbFL_vP1"
      }
    }
  ]
}